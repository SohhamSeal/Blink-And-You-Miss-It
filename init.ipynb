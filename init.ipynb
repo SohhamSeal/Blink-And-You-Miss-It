{
 "cells": [
  {
   "cell_type": "code",
   "execution_count": 11,
   "metadata": {},
   "outputs": [
    {
     "ename": "ImportError",
     "evalue": "cannot import name 'train1' from 'Models.classifier_1' (c:\\Users\\SOHHAM\\Desktop\\My Git\\Blink-And-You-Miss-It\\Models\\classifier_1.py)",
     "output_type": "error",
     "traceback": [
      "\u001b[1;31m---------------------------------------------------------------------------\u001b[0m",
      "\u001b[1;31mImportError\u001b[0m                               Traceback (most recent call last)",
      "Cell \u001b[1;32mIn[11], line 1\u001b[0m\n\u001b[1;32m----> 1\u001b[0m \u001b[38;5;28;01mfrom\u001b[39;00m \u001b[38;5;21;01mModels\u001b[39;00m\u001b[38;5;21;01m.\u001b[39;00m\u001b[38;5;21;01mclassifier_1\u001b[39;00m \u001b[38;5;28;01mimport\u001b[39;00m test1, train1\n\u001b[0;32m      2\u001b[0m \u001b[38;5;28;01mfrom\u001b[39;00m \u001b[38;5;21;01mModels\u001b[39;00m\u001b[38;5;21;01m.\u001b[39;00m\u001b[38;5;21;01mclassifier_2\u001b[39;00m \u001b[38;5;28;01mimport\u001b[39;00m test2, train2\n\u001b[0;32m      3\u001b[0m \u001b[38;5;28;01mfrom\u001b[39;00m \u001b[38;5;21;01mModels\u001b[39;00m\u001b[38;5;21;01m.\u001b[39;00m\u001b[38;5;21;01mclassifier_3\u001b[39;00m \u001b[38;5;28;01mimport\u001b[39;00m test3, train3\n",
      "\u001b[1;31mImportError\u001b[0m: cannot import name 'train1' from 'Models.classifier_1' (c:\\Users\\SOHHAM\\Desktop\\My Git\\Blink-And-You-Miss-It\\Models\\classifier_1.py)"
     ]
    }
   ],
   "source": [
    "from Models.classifier_1 import test1, train1\n",
    "from Models.classifier_2 import test2, train2\n",
    "from Models.classifier_3 import test3, train3\n",
    "from Models.classifier_4 import test4, train4"
   ]
  }
 ],
 "metadata": {
  "kernelspec": {
   "display_name": "Python 3",
   "language": "python",
   "name": "python3"
  },
  "language_info": {
   "codemirror_mode": {
    "name": "ipython",
    "version": 3
   },
   "file_extension": ".py",
   "mimetype": "text/x-python",
   "name": "python",
   "nbconvert_exporter": "python",
   "pygments_lexer": "ipython3",
   "version": "3.11.8"
  }
 },
 "nbformat": 4,
 "nbformat_minor": 2
}
